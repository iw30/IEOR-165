{
  "nbformat": 4,
  "nbformat_minor": 0,
  "metadata": {
    "colab": {
      "name": "wine.ipynb",
      "provenance": []
    },
    "kernelspec": {
      "name": "python3",
      "display_name": "Python 3"
    },
    "language_info": {
      "name": "python"
    }
  },
  "cells": [
    {
      "cell_type": "code",
      "metadata": {
        "colab": {
          "base_uri": "https://localhost:8080/"
        },
        "id": "xgAXC7zHr8F6",
        "outputId": "62114743-c560-4916-c34d-46e4da55a70c"
      },
      "source": [
        "# imports\n",
        "import pandas as pd\n",
        "import seaborn as sns\n",
        "import statsmodels.formula.api as smf\n",
        "from sklearn.linear_model import LinearRegression\n",
        "from sklearn import metrics\n",
        "import numpy as np\n",
        "\n",
        "# allow plots to appear directly in the notebook\n",
        "import matplotlib.pyplot as plt\n",
        "%matplotlib inline"
      ],
      "execution_count": 1,
      "outputs": [
        {
          "output_type": "stream",
          "text": [
            "/usr/local/lib/python3.7/dist-packages/statsmodels/tools/_testing.py:19: FutureWarning: pandas.util.testing is deprecated. Use the functions in the public API at pandas.testing instead.\n",
            "  import pandas.util.testing as tm\n"
          ],
          "name": "stderr"
        }
      ]
    },
    {
      "cell_type": "markdown",
      "metadata": {
        "id": "6_JLCxbgsLqX"
      },
      "source": [
        "# **Introduction**"
      ]
    },
    {
      "cell_type": "markdown",
      "metadata": {
        "id": "zjs8C6tZtbhI"
      },
      "source": [
        "The authors of the following research paper:\n",
        "\n",
        ">Cortez, A. Cerdeira, F. Almeida, T. Matos, and J. Reis, “Modeling wine preferences by data mining from physicochemical properties”, _Decision Support Systems_, vol. 47, no. 4:547-553, 2009.\n",
        "\n",
        "considered  the  problem  of  modeling  wine  preferences.   Wine  can  be  evaluated  by  experts  who give  a  subjective  score,  and  the  question  the  authors  of  this  paper  considered  was  how  to  build a model that relates objective features of the wine (e.g., pH values) to its rated quality. "
      ]
    },
    {
      "cell_type": "markdown",
      "metadata": {
        "id": "1oZvd4YvvMmb"
      },
      "source": [
        "<p>In this project, I am interested to predict the  quality of the wine from features of the wine. The features of the wine.  I will fit a linear regression to the features of the wine to predict the quality of the wine.</p>\n",
        "\n",
        "\n",
        "\n"
      ]
    },
    {
      "cell_type": "markdown",
      "metadata": {
        "id": "34FeAwomyuV_"
      },
      "source": [
        "# **Understanding the dataset**"
      ]
    },
    {
      "cell_type": "markdown",
      "metadata": {
        "id": "WASCCLKS0M-V"
      },
      "source": [
        "## **Structure of the data**"
      ]
    },
    {
      "cell_type": "markdown",
      "metadata": {
        "id": "jgCmH4Heyxoq"
      },
      "source": [
        "The dataset that will be used is stored in <code>df</code>. The dataset is a csv file."
      ]
    },
    {
      "cell_type": "code",
      "metadata": {
        "colab": {
          "base_uri": "https://localhost:8080/",
          "height": 258
        },
        "id": "pjq_N-fYszso",
        "outputId": "7e089822-6946-4256-dac8-a014bee63892"
      },
      "source": [
        "df = pd.read_csv('winequality-red.csv', sep=';')\n",
        "df.head()"
      ],
      "execution_count": 2,
      "outputs": [
        {
          "output_type": "execute_result",
          "data": {
            "text/html": [
              "<div>\n",
              "<style scoped>\n",
              "    .dataframe tbody tr th:only-of-type {\n",
              "        vertical-align: middle;\n",
              "    }\n",
              "\n",
              "    .dataframe tbody tr th {\n",
              "        vertical-align: top;\n",
              "    }\n",
              "\n",
              "    .dataframe thead th {\n",
              "        text-align: right;\n",
              "    }\n",
              "</style>\n",
              "<table border=\"1\" class=\"dataframe\">\n",
              "  <thead>\n",
              "    <tr style=\"text-align: right;\">\n",
              "      <th></th>\n",
              "      <th>fixed acidity</th>\n",
              "      <th>volatile acidity</th>\n",
              "      <th>citric acid</th>\n",
              "      <th>residual sugar</th>\n",
              "      <th>chlorides</th>\n",
              "      <th>free sulfur dioxide</th>\n",
              "      <th>total sulfur dioxide</th>\n",
              "      <th>density</th>\n",
              "      <th>pH</th>\n",
              "      <th>sulphates</th>\n",
              "      <th>alcohol</th>\n",
              "      <th>quality</th>\n",
              "    </tr>\n",
              "  </thead>\n",
              "  <tbody>\n",
              "    <tr>\n",
              "      <th>0</th>\n",
              "      <td>7.4</td>\n",
              "      <td>0.70</td>\n",
              "      <td>0.00</td>\n",
              "      <td>1.9</td>\n",
              "      <td>0.076</td>\n",
              "      <td>11.0</td>\n",
              "      <td>34.0</td>\n",
              "      <td>0.9978</td>\n",
              "      <td>3.51</td>\n",
              "      <td>0.56</td>\n",
              "      <td>9.4</td>\n",
              "      <td>5</td>\n",
              "    </tr>\n",
              "    <tr>\n",
              "      <th>1</th>\n",
              "      <td>7.8</td>\n",
              "      <td>0.88</td>\n",
              "      <td>0.00</td>\n",
              "      <td>2.6</td>\n",
              "      <td>0.098</td>\n",
              "      <td>25.0</td>\n",
              "      <td>67.0</td>\n",
              "      <td>0.9968</td>\n",
              "      <td>3.20</td>\n",
              "      <td>0.68</td>\n",
              "      <td>9.8</td>\n",
              "      <td>5</td>\n",
              "    </tr>\n",
              "    <tr>\n",
              "      <th>2</th>\n",
              "      <td>7.8</td>\n",
              "      <td>0.76</td>\n",
              "      <td>0.04</td>\n",
              "      <td>2.3</td>\n",
              "      <td>0.092</td>\n",
              "      <td>15.0</td>\n",
              "      <td>54.0</td>\n",
              "      <td>0.9970</td>\n",
              "      <td>3.26</td>\n",
              "      <td>0.65</td>\n",
              "      <td>9.8</td>\n",
              "      <td>5</td>\n",
              "    </tr>\n",
              "    <tr>\n",
              "      <th>3</th>\n",
              "      <td>11.2</td>\n",
              "      <td>0.28</td>\n",
              "      <td>0.56</td>\n",
              "      <td>1.9</td>\n",
              "      <td>0.075</td>\n",
              "      <td>17.0</td>\n",
              "      <td>60.0</td>\n",
              "      <td>0.9980</td>\n",
              "      <td>3.16</td>\n",
              "      <td>0.58</td>\n",
              "      <td>9.8</td>\n",
              "      <td>6</td>\n",
              "    </tr>\n",
              "    <tr>\n",
              "      <th>4</th>\n",
              "      <td>7.4</td>\n",
              "      <td>0.70</td>\n",
              "      <td>0.00</td>\n",
              "      <td>1.9</td>\n",
              "      <td>0.076</td>\n",
              "      <td>11.0</td>\n",
              "      <td>34.0</td>\n",
              "      <td>0.9978</td>\n",
              "      <td>3.51</td>\n",
              "      <td>0.56</td>\n",
              "      <td>9.4</td>\n",
              "      <td>5</td>\n",
              "    </tr>\n",
              "  </tbody>\n",
              "</table>\n",
              "</div>"
            ],
            "text/plain": [
              "   fixed acidity  volatile acidity  citric acid  ...  sulphates  alcohol  quality\n",
              "0            7.4              0.70         0.00  ...       0.56      9.4        5\n",
              "1            7.8              0.88         0.00  ...       0.68      9.8        5\n",
              "2            7.8              0.76         0.04  ...       0.65      9.8        5\n",
              "3           11.2              0.28         0.56  ...       0.58      9.8        6\n",
              "4            7.4              0.70         0.00  ...       0.56      9.4        5\n",
              "\n",
              "[5 rows x 12 columns]"
            ]
          },
          "metadata": {
            "tags": []
          },
          "execution_count": 2
        }
      ]
    },
    {
      "cell_type": "markdown",
      "metadata": {
        "id": "c_1qOz2HzDGB"
      },
      "source": [
        "The dataset contains 1599 tows and 12 columns."
      ]
    },
    {
      "cell_type": "code",
      "metadata": {
        "colab": {
          "base_uri": "https://localhost:8080/"
        },
        "id": "PhEJeLits4Kn",
        "outputId": "5724f202-52c3-4d9c-d7f1-77062833ab11"
      },
      "source": [
        "print(\"Row:\",df.shape[0])\n",
        "print(\"Column:\",df.shape[1])"
      ],
      "execution_count": 3,
      "outputs": [
        {
          "output_type": "stream",
          "text": [
            "Row: 1599\n",
            "Column: 12\n"
          ],
          "name": "stdout"
        }
      ]
    },
    {
      "cell_type": "markdown",
      "metadata": {
        "id": "pL43-YKezaS1"
      },
      "source": [
        "The dataset contains no NA values."
      ]
    },
    {
      "cell_type": "code",
      "metadata": {
        "colab": {
          "base_uri": "https://localhost:8080/"
        },
        "id": "HY-hGdtOzFJ1",
        "outputId": "7814e872-e740-4c2d-f539-6e1d59fe9d94"
      },
      "source": [
        "print(\"Total NA values in the dataset:\",df.isnull().sum().sum(), \"entry\")"
      ],
      "execution_count": 4,
      "outputs": [
        {
          "output_type": "stream",
          "text": [
            "Total NA values in the dataset: 0 entry\n"
          ],
          "name": "stdout"
        }
      ]
    },
    {
      "cell_type": "markdown",
      "metadata": {
        "id": "3_ddz6a40k3g"
      },
      "source": [
        "## **Granularity**"
      ]
    },
    {
      "cell_type": "markdown",
      "metadata": {
        "id": "fiJZVlm80s1t"
      },
      "source": [
        "Each row of the dataset represents the features of a single wine."
      ]
    },
    {
      "cell_type": "code",
      "metadata": {
        "colab": {
          "base_uri": "https://localhost:8080/",
          "height": 258
        },
        "id": "HFLAEdSizdri",
        "outputId": "c4b2f0f0-aba4-4711-eaf5-c0cbabc0288d"
      },
      "source": [
        "df.head()"
      ],
      "execution_count": 5,
      "outputs": [
        {
          "output_type": "execute_result",
          "data": {
            "text/html": [
              "<div>\n",
              "<style scoped>\n",
              "    .dataframe tbody tr th:only-of-type {\n",
              "        vertical-align: middle;\n",
              "    }\n",
              "\n",
              "    .dataframe tbody tr th {\n",
              "        vertical-align: top;\n",
              "    }\n",
              "\n",
              "    .dataframe thead th {\n",
              "        text-align: right;\n",
              "    }\n",
              "</style>\n",
              "<table border=\"1\" class=\"dataframe\">\n",
              "  <thead>\n",
              "    <tr style=\"text-align: right;\">\n",
              "      <th></th>\n",
              "      <th>fixed acidity</th>\n",
              "      <th>volatile acidity</th>\n",
              "      <th>citric acid</th>\n",
              "      <th>residual sugar</th>\n",
              "      <th>chlorides</th>\n",
              "      <th>free sulfur dioxide</th>\n",
              "      <th>total sulfur dioxide</th>\n",
              "      <th>density</th>\n",
              "      <th>pH</th>\n",
              "      <th>sulphates</th>\n",
              "      <th>alcohol</th>\n",
              "      <th>quality</th>\n",
              "    </tr>\n",
              "  </thead>\n",
              "  <tbody>\n",
              "    <tr>\n",
              "      <th>0</th>\n",
              "      <td>7.4</td>\n",
              "      <td>0.70</td>\n",
              "      <td>0.00</td>\n",
              "      <td>1.9</td>\n",
              "      <td>0.076</td>\n",
              "      <td>11.0</td>\n",
              "      <td>34.0</td>\n",
              "      <td>0.9978</td>\n",
              "      <td>3.51</td>\n",
              "      <td>0.56</td>\n",
              "      <td>9.4</td>\n",
              "      <td>5</td>\n",
              "    </tr>\n",
              "    <tr>\n",
              "      <th>1</th>\n",
              "      <td>7.8</td>\n",
              "      <td>0.88</td>\n",
              "      <td>0.00</td>\n",
              "      <td>2.6</td>\n",
              "      <td>0.098</td>\n",
              "      <td>25.0</td>\n",
              "      <td>67.0</td>\n",
              "      <td>0.9968</td>\n",
              "      <td>3.20</td>\n",
              "      <td>0.68</td>\n",
              "      <td>9.8</td>\n",
              "      <td>5</td>\n",
              "    </tr>\n",
              "    <tr>\n",
              "      <th>2</th>\n",
              "      <td>7.8</td>\n",
              "      <td>0.76</td>\n",
              "      <td>0.04</td>\n",
              "      <td>2.3</td>\n",
              "      <td>0.092</td>\n",
              "      <td>15.0</td>\n",
              "      <td>54.0</td>\n",
              "      <td>0.9970</td>\n",
              "      <td>3.26</td>\n",
              "      <td>0.65</td>\n",
              "      <td>9.8</td>\n",
              "      <td>5</td>\n",
              "    </tr>\n",
              "    <tr>\n",
              "      <th>3</th>\n",
              "      <td>11.2</td>\n",
              "      <td>0.28</td>\n",
              "      <td>0.56</td>\n",
              "      <td>1.9</td>\n",
              "      <td>0.075</td>\n",
              "      <td>17.0</td>\n",
              "      <td>60.0</td>\n",
              "      <td>0.9980</td>\n",
              "      <td>3.16</td>\n",
              "      <td>0.58</td>\n",
              "      <td>9.8</td>\n",
              "      <td>6</td>\n",
              "    </tr>\n",
              "    <tr>\n",
              "      <th>4</th>\n",
              "      <td>7.4</td>\n",
              "      <td>0.70</td>\n",
              "      <td>0.00</td>\n",
              "      <td>1.9</td>\n",
              "      <td>0.076</td>\n",
              "      <td>11.0</td>\n",
              "      <td>34.0</td>\n",
              "      <td>0.9978</td>\n",
              "      <td>3.51</td>\n",
              "      <td>0.56</td>\n",
              "      <td>9.4</td>\n",
              "      <td>5</td>\n",
              "    </tr>\n",
              "  </tbody>\n",
              "</table>\n",
              "</div>"
            ],
            "text/plain": [
              "   fixed acidity  volatile acidity  citric acid  ...  sulphates  alcohol  quality\n",
              "0            7.4              0.70         0.00  ...       0.56      9.4        5\n",
              "1            7.8              0.88         0.00  ...       0.68      9.8        5\n",
              "2            7.8              0.76         0.04  ...       0.65      9.8        5\n",
              "3           11.2              0.28         0.56  ...       0.58      9.8        6\n",
              "4            7.4              0.70         0.00  ...       0.56      9.4        5\n",
              "\n",
              "[5 rows x 12 columns]"
            ]
          },
          "metadata": {
            "tags": []
          },
          "execution_count": 5
        }
      ]
    },
    {
      "cell_type": "markdown",
      "metadata": {
        "id": "ARkI1tqP1j05"
      },
      "source": [
        "## **Variables**"
      ]
    },
    {
      "cell_type": "markdown",
      "metadata": {
        "id": "DEoQSR491mYl"
      },
      "source": [
        "The variables from each columns are quantitative continuous, except for quality (i.e., quality is qualitative ordinal)"
      ]
    },
    {
      "cell_type": "markdown",
      "metadata": {
        "id": "ql_TyT2b10bV"
      },
      "source": [
        "# **Modeling training data**"
      ]
    },
    {
      "cell_type": "markdown",
      "metadata": {
        "id": "w3yKoCdPKncr"
      },
      "source": [
        "## **Multiple Linear Regression**"
      ]
    },
    {
      "cell_type": "markdown",
      "metadata": {
        "id": "7vpL4Zkk3wYL"
      },
      "source": [
        "The design matrix <code>X</code> will contain the features of the wine and <code>Y</code> will contain the value that we want to predict (i.e., the quality of the wine)"
      ]
    },
    {
      "cell_type": "code",
      "metadata": {
        "id": "HxKDQSyA0r_l"
      },
      "source": [
        "X = df.iloc[:,:-1].to_numpy()\n",
        "y = df.iloc[:,11].to_numpy()"
      ],
      "execution_count": 6,
      "outputs": []
    },
    {
      "cell_type": "markdown",
      "metadata": {
        "id": "yzAynFgU2_s_"
      },
      "source": [
        "I split the dataset into training set (90% of the data) and test set (10% of the data)"
      ]
    },
    {
      "cell_type": "code",
      "metadata": {
        "id": "XtjyblF43XjW"
      },
      "source": [
        "from sklearn.model_selection import train_test_split\n",
        "\n",
        "# Random state is for reproducibility purposes\n",
        "X_train, X_test, y_train, y_test = train_test_split(\n",
        "    X, y, test_size=0.1, random_state=42)"
      ],
      "execution_count": 7,
      "outputs": []
    },
    {
      "cell_type": "markdown",
      "metadata": {
        "id": "7dyW9Syj4_5X"
      },
      "source": [
        "Now, I will fit the model and predict the quality of the wine."
      ]
    },
    {
      "cell_type": "code",
      "metadata": {
        "id": "fwD2Raa24Z0z"
      },
      "source": [
        "# Fit the model\n",
        "\n",
        "linear_model = LinearRegression(fit_intercept=True)\n",
        "linear_model.fit(X_train, y_train)\n",
        "y_fitted = linear_model.predict(X_train)"
      ],
      "execution_count": 8,
      "outputs": []
    },
    {
      "cell_type": "code",
      "metadata": {
        "colab": {
          "base_uri": "https://localhost:8080/"
        },
        "id": "CG95pUQFMFaY",
        "outputId": "4fd1526f-0f20-4977-b42a-ad493ab2e76b"
      },
      "source": [
        "# Printing the coefficient\n",
        "\n",
        "print(\"Intercept:\",linear_model.intercept_)\n",
        "print(\"Coef:\",linear_model.coef_)"
      ],
      "execution_count": 9,
      "outputs": [
        {
          "output_type": "stream",
          "text": [
            "Intercept: 21.13255032686859\n",
            "Coef: [ 2.25927798e-02 -1.04214422e+00 -1.03974475e-01  1.33101561e-02\n",
            " -1.76414361e+00  4.62739928e-03 -3.24754611e-03 -1.72396293e+01\n",
            " -3.42743209e-01  8.76382340e-01  2.71548817e-01]\n"
          ],
          "name": "stdout"
        }
      ]
    },
    {
      "cell_type": "markdown",
      "metadata": {
        "id": "yCusDRkf-0qN"
      },
      "source": [
        "Now, we will calculate the RMSE to assess the perfomance of the model."
      ]
    },
    {
      "cell_type": "code",
      "metadata": {
        "id": "U7l0BsG98q2-"
      },
      "source": [
        "def rmse(predicted, actual):\n",
        "    \"\"\"\n",
        "    Calculates RMSE from actual and predicted values\n",
        "    Input:\n",
        "      predicted (1D array): vector of predicted/fitted values\n",
        "      actual (1D array): vector of actual values\n",
        "    Output:\n",
        "      a float, the root-mean square error\n",
        "    \"\"\"\n",
        "    return np.sqrt(np.mean((actual - predicted)**2))"
      ],
      "execution_count": 10,
      "outputs": []
    },
    {
      "cell_type": "code",
      "metadata": {
        "colab": {
          "base_uri": "https://localhost:8080/"
        },
        "id": "io3HB7j9-f3P",
        "outputId": "613b8998-6d0a-429f-9703-1a6d9eedb553"
      },
      "source": [
        "print(\"Training set RMSE:\",rmse(y_fitted,y_train))"
      ],
      "execution_count": 11,
      "outputs": [
        {
          "output_type": "stream",
          "text": [
            "Training set RMSE: 0.6486289801623697\n"
          ],
          "name": "stdout"
        }
      ]
    },
    {
      "cell_type": "markdown",
      "metadata": {
        "id": "5qJ0VMYKMCfw"
      },
      "source": [
        "The **$R^2$** of the model is:"
      ]
    },
    {
      "cell_type": "code",
      "metadata": {
        "colab": {
          "base_uri": "https://localhost:8080/"
        },
        "id": "P_eS-sXHL7V3",
        "outputId": "82ecbf15-d846-4c2d-b102-4d2fe18806f6"
      },
      "source": [
        "# Calculating R^2\n",
        "linear_model.score(X_train,y_train)"
      ],
      "execution_count": 12,
      "outputs": [
        {
          "output_type": "execute_result",
          "data": {
            "text/plain": [
              "0.35253679884718236"
            ]
          },
          "metadata": {
            "tags": []
          },
          "execution_count": 12
        }
      ]
    },
    {
      "cell_type": "markdown",
      "metadata": {
        "id": "PXSY7_YZNrtU"
      },
      "source": [
        "The **$R^2$** on this model is very low. It seems that linear regression does not fit the data appropriately. "
      ]
    },
    {
      "cell_type": "markdown",
      "metadata": {
        "id": "yKtjb38XCGEC"
      },
      "source": [
        "## **Ridge Regression**"
      ]
    },
    {
      "cell_type": "markdown",
      "metadata": {
        "id": "1VWXDoHOBuSr"
      },
      "source": [
        "I want to incorporate Ridge Regression in the model and see whether the perfomance of the model is better or not. \n",
        "\n",
        "\n"
      ]
    },
    {
      "cell_type": "code",
      "metadata": {
        "id": "_r5SE9fkC2sB"
      },
      "source": [
        "from sklearn.model_selection import GridSearchCV\n",
        "from sklearn.model_selection import RepeatedKFold\n",
        "from sklearn.linear_model import RidgeCV"
      ],
      "execution_count": 13,
      "outputs": []
    },
    {
      "cell_type": "markdown",
      "metadata": {
        "id": "z3PKur7ZFsb1"
      },
      "source": [
        "I will use cross validation method for picking the best <code>alpha</code>. Then, I will proceed fitting the Ridge Regression into the model."
      ]
    },
    {
      "cell_type": "code",
      "metadata": {
        "id": "bCYaoLuxDWmr"
      },
      "source": [
        "# Define cross validation method\n",
        "\n",
        "cv = RepeatedKFold(n_splits=10, n_repeats=3, random_state=42)"
      ],
      "execution_count": 14,
      "outputs": []
    },
    {
      "cell_type": "code",
      "metadata": {
        "colab": {
          "base_uri": "https://localhost:8080/"
        },
        "id": "zp7PsF-Y_1aI",
        "outputId": "2b334d4a-f40f-4be7-fe18-d3f05260cd8c"
      },
      "source": [
        "# Define model\n",
        "linear_model_l2= RidgeCV(alphas=np.arange(0, 1, 0.01), cv=cv)\n",
        "linear_model_l2.fit(X_train,y_train)"
      ],
      "execution_count": 15,
      "outputs": [
        {
          "output_type": "execute_result",
          "data": {
            "text/plain": [
              "RidgeCV(alphas=array([0.  , 0.01, 0.02, 0.03, 0.04, 0.05, 0.06, 0.07, 0.08, 0.09, 0.1 ,\n",
              "       0.11, 0.12, 0.13, 0.14, 0.15, 0.16, 0.17, 0.18, 0.19, 0.2 , 0.21,\n",
              "       0.22, 0.23, 0.24, 0.25, 0.26, 0.27, 0.28, 0.29, 0.3 , 0.31, 0.32,\n",
              "       0.33, 0.34, 0.35, 0.36, 0.37, 0.38, 0.39, 0.4 , 0.41, 0.42, 0.43,\n",
              "       0.44, 0.45, 0.46, 0.47, 0.48, 0.49, 0.5 , 0.51, 0.52, 0.53, 0.54,\n",
              "       0.55, 0.56, 0.57, 0.58, 0.59, 0.6 , 0.61, 0.62, 0.63, 0.64, 0.65,\n",
              "       0.66, 0.67, 0.68, 0.69, 0.7 , 0.71, 0.72, 0.73, 0.74, 0.75, 0.76,\n",
              "       0.77, 0.78, 0.79, 0.8 , 0.81, 0.82, 0.83, 0.84, 0.85, 0.86, 0.87,\n",
              "       0.88, 0.89, 0.9 , 0.91, 0.92, 0.93, 0.94, 0.95, 0.96, 0.97, 0.98,\n",
              "       0.99]),\n",
              "        cv=RepeatedKFold(n_repeats=3, n_splits=10, random_state=42),\n",
              "        fit_intercept=True, gcv_mode=None, normalize=False, scoring=None,\n",
              "        store_cv_values=False)"
            ]
          },
          "metadata": {
            "tags": []
          },
          "execution_count": 15
        }
      ]
    },
    {
      "cell_type": "code",
      "metadata": {
        "colab": {
          "base_uri": "https://localhost:8080/"
        },
        "id": "J8iDsOthDchG",
        "outputId": "57b5c7c3-56b3-46dc-922a-345d068dd0c8"
      },
      "source": [
        "# Summarize chosen configuration\n",
        "print('alpha: %f' % linear_model_l2.alpha_)"
      ],
      "execution_count": 16,
      "outputs": [
        {
          "output_type": "stream",
          "text": [
            "alpha: 0.200000\n"
          ],
          "name": "stdout"
        }
      ]
    },
    {
      "cell_type": "code",
      "metadata": {
        "id": "klu6llJMD7L-"
      },
      "source": [
        "# Predict using the model\n",
        "\n",
        "y_fitted_l2 = linear_model_l2.predict(X_train)"
      ],
      "execution_count": 17,
      "outputs": []
    },
    {
      "cell_type": "code",
      "metadata": {
        "colab": {
          "base_uri": "https://localhost:8080/"
        },
        "id": "Fd4YSN5FU8-B",
        "outputId": "8ae7be27-eeac-4dd8-e012-c6af262da63a"
      },
      "source": [
        "# Printing the coefficient\n",
        "\n",
        "print(\"Intercept:\",linear_model_l2.intercept_)\n",
        "print(\"Coef:\",linear_model_l2.coef_)"
      ],
      "execution_count": 18,
      "outputs": [
        {
          "output_type": "stream",
          "text": [
            "Intercept: 4.248569726706463\n",
            "Coef: [ 0.00779049 -1.05905425 -0.11113112  0.00589724 -1.64784726  0.00477421\n",
            " -0.00326587 -0.0759702  -0.41375384  0.83473224  0.28879124]\n"
          ],
          "name": "stdout"
        }
      ]
    },
    {
      "cell_type": "code",
      "metadata": {
        "colab": {
          "base_uri": "https://localhost:8080/"
        },
        "id": "BDFcgmYrEET-",
        "outputId": "5f7ffe8b-2c1e-49d4-dc10-4c8a19c0c2a6"
      },
      "source": [
        "print(\"Training set RMSE:\",rmse(y_fitted_l2,y_train))"
      ],
      "execution_count": 19,
      "outputs": [
        {
          "output_type": "stream",
          "text": [
            "Training set RMSE: 0.648787249064685\n"
          ],
          "name": "stdout"
        }
      ]
    },
    {
      "cell_type": "code",
      "metadata": {
        "colab": {
          "base_uri": "https://localhost:8080/"
        },
        "id": "awM-1HaQPeQF",
        "outputId": "684a85cc-e232-40af-d0ef-c58da88fd474"
      },
      "source": [
        "# Calculating R^2\n",
        "linear_model_l2.score(X_train,y_train)"
      ],
      "execution_count": 20,
      "outputs": [
        {
          "output_type": "execute_result",
          "data": {
            "text/plain": [
              "0.3522207914060015"
            ]
          },
          "metadata": {
            "tags": []
          },
          "execution_count": 20
        }
      ]
    },
    {
      "cell_type": "markdown",
      "metadata": {
        "id": "9ESgLUT0FkLp"
      },
      "source": [
        "It seems that the model is doing slightly better using Ridge Regression. But, the model does not fit the data properly."
      ]
    },
    {
      "cell_type": "markdown",
      "metadata": {
        "id": "73tDxejBPv69"
      },
      "source": [
        "## **Linear regression? Is it a good choice?**"
      ]
    },
    {
      "cell_type": "markdown",
      "metadata": {
        "id": "yapwHoc2Pr4j"
      },
      "source": [
        "To visualize the cause of low **$R^2$**, let us visualize the relationship between some of the features and response using the scatterplot."
      ]
    },
    {
      "cell_type": "code",
      "metadata": {
        "colab": {
          "base_uri": "https://localhost:8080/",
          "height": 491
        },
        "id": "Kp_5-JfOOD1a",
        "outputId": "d2adca8a-3efe-4a3a-ad13-fadef095ebb5"
      },
      "source": [
        "sns.pairplot(df, x_vars=df.columns[0:3], y_vars=\"quality\", size=7, aspect=0.7, kind='reg');"
      ],
      "execution_count": 21,
      "outputs": [
        {
          "output_type": "stream",
          "text": [
            "/usr/local/lib/python3.7/dist-packages/seaborn/axisgrid.py:1969: UserWarning: The `size` parameter has been renamed to `height`; please update your code.\n",
            "  warnings.warn(msg, UserWarning)\n"
          ],
          "name": "stderr"
        },
        {
          "output_type": "display_data",
          "data": {
            "image/png": "[encoded data removed]",
            "text/plain": [
              "<Figure size 1058.4x504 with 3 Axes>"
            ]
          },
          "metadata": {
            "tags": [],
            "needs_background": "light"
          }
        }
      ]
    },
    {
      "cell_type": "markdown",
      "metadata": {
        "id": "m9wlvHCbOgi_"
      },
      "source": [
        "It seems that using linear regression is not a good choice to fit the data. This is because the y-values of the data only takes integer. "
      ]
    },
    {
      "cell_type": "markdown",
      "metadata": {
        "id": "lKtrgEfiQIL6"
      },
      "source": [
        "## **Decision trees**"
      ]
    },
    {
      "cell_type": "markdown",
      "metadata": {
        "id": "DJZIVfwuQYhI"
      },
      "source": [
        "Since the quality of the wine is qualitative ordinal and takes only integer, decision trees should fit the model well enough. "
      ]
    },
    {
      "cell_type": "code",
      "metadata": {
        "id": "BqcADsTWGpV0"
      },
      "source": [
        "from sklearn import tree\n",
        "from sklearn.ensemble import RandomForestClassifier"
      ],
      "execution_count": 22,
      "outputs": []
    },
    {
      "cell_type": "markdown",
      "metadata": {
        "id": "BUR_s51pRSzj"
      },
      "source": [
        "To avoid overfitting the data, I will use random forest. The process is described below:"
      ]
    },
    {
      "cell_type": "code",
      "metadata": {
        "id": "MA36BDlVTufq"
      },
      "source": [
        "# Create a Gaussian Classifier\n",
        "clf=RandomForestClassifier(n_estimators=250, random_state=1)"
      ],
      "execution_count": 23,
      "outputs": []
    },
    {
      "cell_type": "code",
      "metadata": {
        "colab": {
          "base_uri": "https://localhost:8080/"
        },
        "id": "I2cK937NS67w",
        "outputId": "3f20fe78-fc26-4832-ddeb-5cdc6e6658f6"
      },
      "source": [
        "# Train the model using the training sets y_pred=clf.predict(X_test)\n",
        "clf.fit(X_train,y_train)\n",
        "y_pred=clf.predict(X_test)\n",
        "# Printing the first five y_pred\n",
        "print(y_pred[0:5])"
      ],
      "execution_count": 24,
      "outputs": [
        {
          "output_type": "stream",
          "text": [
            "[5 5 5 5 6]\n"
          ],
          "name": "stdout"
        }
      ]
    },
    {
      "cell_type": "code",
      "metadata": {
        "colab": {
          "base_uri": "https://localhost:8080/"
        },
        "id": "U3MHuOCnT2to",
        "outputId": "495139cb-01a0-4c85-c311-0f7f6f9dc553"
      },
      "source": [
        "# Import scikit-learn metrics module for accuracy calculation\n",
        "from sklearn import metrics\n",
        "# Model Accuracy, how often is the classifier correct in the test sets?\n",
        "print(\"Accuracy:\",metrics.accuracy_score(y_test, y_pred))"
      ],
      "execution_count": 25,
      "outputs": [
        {
          "output_type": "stream",
          "text": [
            "Accuracy: 0.70625\n"
          ],
          "name": "stdout"
        }
      ]
    },
    {
      "cell_type": "markdown",
      "metadata": {
        "id": "v7U4A5VnVHZX"
      },
      "source": [
        "Overall, the model is doing decently in predicting the quality of the wine. It is definitely better than using linear regression."
      ]
    },
    {
      "cell_type": "markdown",
      "metadata": {
        "id": "P7kEajGXaFNb"
      },
      "source": [
        "## **Finding important features**"
      ]
    },
    {
      "cell_type": "markdown",
      "metadata": {
        "id": "XLqlRii7ak6b"
      },
      "source": [
        "Here, I am finding the important features or selecting features in the dataset."
      ]
    },
    {
      "cell_type": "code",
      "metadata": {
        "colab": {
          "base_uri": "https://localhost:8080/"
        },
        "id": "kW7ja3DmUMMj",
        "outputId": "54d9f557-41ac-4105-d3fc-8d8ca96d11f9"
      },
      "source": [
        "feature_imp = pd.Series(clf.feature_importances_,index=df.columns[:-1]).sort_values(ascending=False)\n",
        "feature_imp"
      ],
      "execution_count": 26,
      "outputs": [
        {
          "output_type": "execute_result",
          "data": {
            "text/plain": [
              "alcohol                 0.148170\n",
              "sulphates               0.108770\n",
              "total sulfur dioxide    0.104420\n",
              "volatile acidity        0.104204\n",
              "density                 0.089286\n",
              "chlorides               0.083043\n",
              "citric acid             0.075624\n",
              "fixed acidity           0.073698\n",
              "pH                      0.072912\n",
              "residual sugar          0.071167\n",
              "free sulfur dioxide     0.068705\n",
              "dtype: float64"
            ]
          },
          "metadata": {
            "tags": []
          },
          "execution_count": 26
        }
      ]
    },
    {
      "cell_type": "markdown",
      "metadata": {
        "id": "5X-gtlGyasfa"
      },
      "source": [
        "I can visualize the feature importance in a bar graph to make it easier to understand and interpret."
      ]
    },
    {
      "cell_type": "code",
      "metadata": {
        "colab": {
          "base_uri": "https://localhost:8080/",
          "height": 295
        },
        "id": "C9hLv8J6ag59",
        "outputId": "6e23406a-543d-4829-bb45-e15301091dc8"
      },
      "source": [
        "# Creating a bar plot\n",
        "sns.barplot(x=feature_imp, y=feature_imp.index)\n",
        "# Add labels to your graph\n",
        "plt.xlabel('Feature Importance Score')\n",
        "plt.ylabel('Features')\n",
        "plt.title(\"Visualizing Important Features\")\n",
        "plt.show();"
      ],
      "execution_count": 27,
      "outputs": [
        {
          "output_type": "display_data",
          "data": {
            "image/png": "[encoded data removed]",
            "text/plain": [
              "<Figure size 432x288 with 1 Axes>"
            ]
          },
          "metadata": {
            "tags": [],
            "needs_background": "light"
          }
        }
      ]
    },
    {
      "cell_type": "markdown",
      "metadata": {
        "id": "B_3LHYDwb0A2"
      },
      "source": [
        "It seems that all scores are low since all scores are below 0.15. Although from the plot it is not clear which features to be removed, for the next model, I will remove the bottom 3 features based on the barplot and see if the model is doing any better."
      ]
    },
    {
      "cell_type": "markdown",
      "metadata": {
        "id": "RbXqLdVJcYs7"
      },
      "source": [
        "## **Model on selected features**"
      ]
    },
    {
      "cell_type": "code",
      "metadata": {
        "id": "4169tUjebvQ7"
      },
      "source": [
        "X = df[['alcohol','sulphates','total sulfur dioxide','volatile acidity','density','chlorides','citric acid','fixed acidity']].to_numpy()\n",
        "y = df[['quality']]"
      ],
      "execution_count": 28,
      "outputs": []
    },
    {
      "cell_type": "code",
      "metadata": {
        "id": "YQEVl1TaaVjv"
      },
      "source": [
        "# Split dataset into training set and test set\n",
        "X_train, X_test, y_train, y_test = train_test_split(X, y, test_size=0.1, random_state=42)"
      ],
      "execution_count": 29,
      "outputs": []
    },
    {
      "cell_type": "code",
      "metadata": {
        "colab": {
          "base_uri": "https://localhost:8080/"
        },
        "id": "TuTYW001dNii",
        "outputId": "a5915022-47e7-4154-d48d-03272e1d5e42"
      },
      "source": [
        "#Create a Gaussian Classifier\n",
        "clf=RandomForestClassifier(n_estimators=250, random_state = 1)\n",
        "\n",
        "#Train the model using the training sets y_pred=clf.predict(X_test)\n",
        "clf.fit(X_train,y_train)\n",
        "\n",
        "# prediction on test set\n",
        "y_pred=clf.predict(X_test)\n",
        "\n",
        "#Import scikit-learn metrics module for accuracy calculation\n",
        "from sklearn import metrics\n",
        "# Model Accuracy, how often is the classifier correct?\n",
        "print(\"Accuracy:\",metrics.accuracy_score(y_test, y_pred))"
      ],
      "execution_count": 30,
      "outputs": [
        {
          "output_type": "stream",
          "text": [
            "/usr/local/lib/python3.7/dist-packages/ipykernel_launcher.py:5: DataConversionWarning: A column-vector y was passed when a 1d array was expected. Please change the shape of y to (n_samples,), for example using ravel().\n",
            "  \"\"\"\n"
          ],
          "name": "stderr"
        },
        {
          "output_type": "stream",
          "text": [
            "Accuracy: 0.675\n"
          ],
          "name": "stdout"
        }
      ]
    },
    {
      "cell_type": "markdown",
      "metadata": {
        "id": "XXpv6lUndWcS"
      },
      "source": [
        "It seems that removing the features will make the model worse. Hence, I should not remove any features when modelling the wine dataset."
      ]
    },
    {
      "cell_type": "markdown",
      "metadata": {
        "id": "V664MqGldep7"
      },
      "source": [
        "# **Conclusion**"
      ]
    },
    {
      "cell_type": "markdown",
      "metadata": {
        "id": "IcA1SIOSeuvu"
      },
      "source": [
        "Overall, the model is successfully fitted using decision trees with an accuracy up to 70.625%. The model is doing decently in predicting the quality of the wine based on the given features."
      ]
    },
    {
      "cell_type": "code",
      "metadata": {
        "id": "xprikj76dSpG"
      },
      "source": [
        ""
      ],
      "execution_count": 30,
      "outputs": []
    }
  ]
}